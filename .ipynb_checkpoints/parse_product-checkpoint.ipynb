{
 "cells": [
  {
   "cell_type": "code",
   "execution_count": 5,
   "id": "11cbcf3e-603a-4d0b-9ea7-3955d9b11a5b",
   "metadata": {},
   "outputs": [
    {
     "data": {
      "text/plain": [
       "200"
      ]
     },
     "execution_count": 5,
     "metadata": {},
     "output_type": "execute_result"
    }
   ],
   "source": [
    "import requests, json, bs4, json\n",
    "from Crawler import *\n",
    "\n",
    "crawler = Crawler(\"Default\")\n",
    "search_url=\"https://groceries.aldi.ie/en-GB/p-smooth-peanut-butter-340g-grandessa/4088600294261\"\n",
    "res = crawler.request_product_search(search_url)\n",
    "res.status_code"
   ]
  },
  {
   "cell_type": "code",
   "execution_count": 11,
   "id": "c26d8d95-8476-4880-816e-94c33dc2795c",
   "metadata": {},
   "outputs": [
    {
     "data": {
      "text/plain": [
       "{'selectedKvas': {},\n",
       " 'productId': '4088600294261',\n",
       " 'CategoryId': 'C5304',\n",
       " 'Sku': '4088600294261',\n",
       " 'keyVariantAttributeItems': [],\n",
       " 'CreateAccountUrl': '/en-GB/create-account?ReturnUrl=%252fen-GB%252fp-smooth-peanut-butter-340g-grandessa%252f4088600294261',\n",
       " 'Weight': 1.0,\n",
       " 'WeightUOM': 'Kilogramme',\n",
       " 'ItemFormat': 1.0,\n",
       " 'SellingMethod': 'Unit',\n",
       " 'UnitOfMeasure': 'Unit',\n",
       " 'IsUnit': True,\n",
       " 'IsUnitMeasure': True,\n",
       " 'IsApproxUnit': False,\n",
       " 'Quantity': {'Min': 0, 'Max': 99, 'JsonContext': '{}'},\n",
       " 'Brand': 'Grandessa',\n",
       " 'DisplayName': 'Smooth Peanut Butter 340g Grandessa',\n",
       " 'GeneralDisclaimer': 'We’ve provided the details above for information purposes only, to enhance your experience of the Aldi website. We’ve tried our best to make sure everything is accurate, but you should always read the label before consuming or using the product. It’s also worth remembering that our products and their ingredients are liable to change at any time. If you need any specific information about any of our Aldi-branded products, please get in touch with our friendly Customer Services team.',\n",
       " 'HasGeneralDisclaimer': True,\n",
       " 'IsProofOfAgeRequired': False,\n",
       " 'SizeVolume': '340g',\n",
       " 'MaxPurchaseQuantity': 15.0,\n",
       " 'UnitPriceDeclaration': 'per kg',\n",
       " 'ImageRibbonText': None,\n",
       " 'ImageBannerText': None,\n",
       " 'ImageBadges': None,\n",
       " 'ImageBadges_Facet': None,\n",
       " 'BrandName': 'Grandessa',\n",
       " 'PrimaryCategoryId': 'IEL1E',\n",
       " 'PrimaryCategoryName': 'Food Cupboard',\n",
       " 'SecondaryCategoryId': 'IEL2EJ',\n",
       " 'SecondaryCategoryName': 'Jams, Spreads & Syrups',\n",
       " 'TertiaryCategoryId': 'C5304',\n",
       " 'TertiaryCategoryName': 'Nut Butters',\n",
       " 'AssortmentState': None,\n",
       " 'ImageRibbonColour': None,\n",
       " 'ImageBannerColour': None}"
      ]
     },
     "execution_count": 11,
     "metadata": {},
     "output_type": "execute_result"
    }
   ],
   "source": [
    "soup = bs4.BeautifulSoup(res.content, 'html.parser')\n",
    "item = soup.find(id='product-summary')\n",
    "raw_json = item['data-context']\n",
    "spec_dict = json.loads(raw_json)\n",
    "spec_dict"
   ]
  },
  {
   "cell_type": "markdown",
   "id": "e4363e6e-a814-4154-9f3f-2d543588f1f4",
   "metadata": {},
   "source": [
    "missing info:\n",
    "- selling price\n",
    "- price per kg"
   ]
  }
 ],
 "metadata": {
  "kernelspec": {
   "display_name": "Python 3 (ipykernel)",
   "language": "python",
   "name": "python3"
  },
  "language_info": {
   "codemirror_mode": {
    "name": "ipython",
    "version": 3
   },
   "file_extension": ".py",
   "mimetype": "text/x-python",
   "name": "python",
   "nbconvert_exporter": "python",
   "pygments_lexer": "ipython3",
   "version": "3.10.8"
  }
 },
 "nbformat": 4,
 "nbformat_minor": 5
}
