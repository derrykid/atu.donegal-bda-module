{
 "cells": [
  {
   "cell_type": "code",
   "execution_count": 1,
   "metadata": {},
   "outputs": [
    {
     "name": "stdout",
     "output_type": "stream",
     "text": [
      "Start searching item: \"Peanut butter\" at Tesco\n",
      "looking into https://www.tesco.ie/groceries/en-IE/products/264769626\n",
      "response: 200\n",
      "looking into https://www.tesco.ie/groceries/en-IE/products/264604671\n",
      "response: 200\n",
      "Start searching item: \"Peanut butter\" at Aldi\n",
      "looking into https://groceries.aldi.ie/en-GB/p-smooth-peanut-butter-340g-grandessa/4088600294261\n",
      "response: 200\n",
      "looking into https://groceries.aldi.ie/en-GB/p-peanut-butter-crunchy-340g-grandessa/4088600294278\n",
      "response: 200\n"
     ]
    }
   ],
   "source": [
    "from TescoCrawler import *\n",
    "from AldiCrawler import *\n",
    "\n",
    "tesco_crawler = TescoCrawler()\n",
    "aldi_crawler = AldiCrawler()\n",
    "item = Search_Item(\"Peanut butter\")\n",
    "item = tesco_crawler.search_and_append(item, num=2)\n",
    "item = aldi_crawler.search_and_append(item,num=2)"
   ]
  },
  {
   "cell_type": "code",
   "execution_count": 3,
   "metadata": {},
   "outputs": [
    {
     "name": "stdout",
     "output_type": "stream",
     "text": [
      "\n",
      "        retailer name: Aldi,\n",
      "        product id: 4088600294261,\n",
      "        product name: Smooth Peanut Butter 340g Grandessa,\n",
      "        product page_url: https://groceries.aldi.ie/en-GB/p-smooth-peanut-butter-340g-grandessa/4088600294261,\n",
      "        selling price: 1.19, \n",
      "        unit price: 0,\n",
      "        selling volume: 340g,\n",
      "        category_1: Food Cupboard,\n",
      "        category_2: Jams, Spreads & Syrups,\n",
      "        category_3: Nut Butters,\n",
      "        product nutrition: Per 100g: Energy 2536kJ, 612kcal Fat 50g of which saturates 9.9g Carbohydrate 12g of which sugars 6.6g Fibre 8.3g Protein 25g Salt 1.2g\n",
      "        \n",
      "\n",
      "        retailer name: Aldi,\n",
      "        product id: 4088600294278,\n",
      "        product name: Peanut Butter Crunchy 340g Grandessa,\n",
      "        product page_url: https://groceries.aldi.ie/en-GB/p-peanut-butter-crunchy-340g-grandessa/4088600294278,\n",
      "        selling price: 1.19, \n",
      "        unit price: 0,\n",
      "        selling volume: 340g,\n",
      "        category_1: Food Cupboard,\n",
      "        category_2: Jams, Spreads & Syrups,\n",
      "        category_3: Nut Butters,\n",
      "        product nutrition: Per 100g: Energy 2540kJ, 613kcal Fat 50g of which saturates 9.5g Carbohydrate 12g of which sugars 6.4g Fibre 8.4g Protein 25g Salt 1.0g\n",
      "        \n",
      "\n",
      "        retailer name: Tesco,\n",
      "        product id: 05000119003867,\n",
      "        product name: Tesco Smooth Peanut Butter 340G,\n",
      "        product page_url: https://www.tesco.ie/groceries/en-IE/products/264769626,\n",
      "        selling price: 1.3, \n",
      "        unit price: 3.82,\n",
      "        selling volume: [{'value': '340', 'units': 'G'}],\n",
      "        category_1: Food Cupboard,\n",
      "        category_2: Baking, Desserts & Spreads,\n",
      "        category_3: Jams, Spreads & Honey,\n",
      "        product nutrition: [{'name': 'Typical Values', 'perComp': 'Per 100g', 'perServing': 'One tablespoon (15g)', 'referenceIntake': None, 'referencePercentage': None}, {'name': 'Energy', 'perComp': '2620kJ / 633kcal', 'perServing': '393kJ / 95kcal', 'referenceIntake': None, 'referencePercentage': None}, {'name': 'Fat', 'perComp': '51.7g', 'perServing': '7.8g', 'referenceIntake': None, 'referencePercentage': None}, {'name': 'Saturates', 'perComp': '7.5g', 'perServing': '1.1g', 'referenceIntake': None, 'referencePercentage': None}, {'name': 'Carbohydrate', 'perComp': '13.8g', 'perServing': '2.1g', 'referenceIntake': None, 'referencePercentage': None}, {'name': 'Sugars', 'perComp': '6.0g', 'perServing': '0.9g', 'referenceIntake': None, 'referencePercentage': None}, {'name': 'Fibre', 'perComp': '7.0g', 'perServing': '1.1g', 'referenceIntake': None, 'referencePercentage': None}, {'name': 'Protein', 'perComp': '24.5g', 'perServing': '3.7g', 'referenceIntake': None, 'referencePercentage': None}, {'name': 'Salt', 'perComp': '1.00g', 'perServing': '0.15g', 'referenceIntake': None, 'referencePercentage': None}, {'name': '* Reference intake of an average adult (8400 kJ / 2000 kcal)', 'perComp': '-', 'perServing': '-', 'referenceIntake': None, 'referencePercentage': None}, {'name': 'As sold', 'perComp': '-', 'perServing': '-', 'referenceIntake': None, 'referencePercentage': None}]\n",
      "        \n",
      "\n",
      "        retailer name: Tesco,\n",
      "        product id: 05051898719333,\n",
      "        product name: Tesco Smooth Peanut Butter 700G,\n",
      "        product page_url: https://www.tesco.ie/groceries/en-IE/products/264604671,\n",
      "        selling price: 2.19, \n",
      "        unit price: 3.13,\n",
      "        selling volume: [{'value': '700', 'units': 'G'}],\n",
      "        category_1: Food Cupboard,\n",
      "        category_2: Baking, Desserts & Spreads,\n",
      "        category_3: Jams, Spreads & Honey,\n",
      "        product nutrition: [{'name': 'Typical Values', 'perComp': 'Per 100g', 'perServing': 'One tablespoon (15g)', 'referenceIntake': None, 'referencePercentage': None}, {'name': 'Energy', 'perComp': '2620kJ / 633kcal', 'perServing': '393kJ / 95kcal', 'referenceIntake': None, 'referencePercentage': None}, {'name': 'Fat', 'perComp': '51.7g', 'perServing': '7.8g', 'referenceIntake': None, 'referencePercentage': None}, {'name': 'Saturates', 'perComp': '7.5g', 'perServing': '1.1g', 'referenceIntake': None, 'referencePercentage': None}, {'name': 'Carbohydrate', 'perComp': '13.8g', 'perServing': '2.1g', 'referenceIntake': None, 'referencePercentage': None}, {'name': 'Sugars', 'perComp': '6.0g', 'perServing': '0.9g', 'referenceIntake': None, 'referencePercentage': None}, {'name': 'Fibre', 'perComp': '7.0g', 'perServing': '1.1g', 'referenceIntake': None, 'referencePercentage': None}, {'name': 'Protein', 'perComp': '24.5g', 'perServing': '3.7g', 'referenceIntake': None, 'referencePercentage': None}, {'name': 'Salt', 'perComp': '1.00g', 'perServing': '0.15g', 'referenceIntake': None, 'referencePercentage': None}, {'name': '* Reference intake of an average adult (8400 kJ / 2000 kcal)', 'perComp': '-', 'perServing': '-', 'referenceIntake': None, 'referencePercentage': None}, {'name': 'As sold', 'perComp': '-', 'perServing': '-', 'referenceIntake': None, 'referencePercentage': None}]\n",
      "        \n"
     ]
    }
   ],
   "source": [
    "for e in item.aldi_items:\n",
    "    print(e)\n",
    "\n",
    "for t in item.tesco_items:\n",
    "    print(t)"
   ]
  },
  {
   "cell_type": "code",
   "execution_count": null,
   "metadata": {},
   "outputs": [],
   "source": []
  }
 ],
 "metadata": {
  "kernelspec": {
   "display_name": "Python 3",
   "language": "python",
   "name": "python3"
  },
  "language_info": {
   "codemirror_mode": {
    "name": "ipython",
    "version": 3
   },
   "file_extension": ".py",
   "mimetype": "text/x-python",
   "name": "python",
   "nbconvert_exporter": "python",
   "pygments_lexer": "ipython3",
   "version": "3.10.8"
  },
  "orig_nbformat": 4,
  "vscode": {
   "interpreter": {
    "hash": "e7370f93d1d0cde622a1f8e1c04877d8463912d04d973331ad4851f04de6915a"
   }
  }
 },
 "nbformat": 4,
 "nbformat_minor": 2
}
