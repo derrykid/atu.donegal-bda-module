{
 "cells": [
  {
   "cell_type": "markdown",
   "metadata": {
    "id": "h76IM8wd6rG4"
   },
   "source": [
    "# Create database\n",
    "\n",
    "1. Upload the compressed file\n",
    "1. Unzip the file\n",
    "1. Assign how many items to search from openfood\n",
    "1. Assign how many products to look into from the search results page"
   ]
  },
  {
   "cell_type": "code",
   "execution_count": null,
   "metadata": {
    "colab": {
     "background_save": true
    },
    "id": "KEhbKWjL6qEA"
   },
   "outputs": [],
   "source": [
    "from google.colab import files\n",
    "files.upload()"
   ]
  },
  {
   "cell_type": "code",
   "execution_count": null,
   "metadata": {
    "id": "V2Di20Ddewjz"
   },
   "outputs": [],
   "source": [
    "!unzip retailer_analysis"
   ]
  },
  {
   "cell_type": "code",
   "execution_count": 1,
   "metadata": {
    "executionInfo": {
     "elapsed": 423,
     "status": "ok",
     "timestamp": 1672146135259,
     "user": {
      "displayName": "葉籽宏",
      "userId": "10846705346373876174"
     },
     "user_tz": 0
    },
    "id": "7oI7SdICc8jB"
   },
   "outputs": [],
   "source": [
    "retailer = \"Aldi\"\n",
    "csvfile = \"openfood_aldi.csv\"\n",
    "\n",
    "# 0~4507, cuz that's the rows number in openfood aldi\n",
    "from_num = 0\n",
    "to_num = 2\n",
    "search_items_per_requests=1"
   ]
  },
  {
   "cell_type": "code",
   "execution_count": 2,
   "metadata": {
    "executionInfo": {
     "elapsed": 1241,
     "status": "ok",
     "timestamp": 1672146136453,
     "user": {
      "displayName": "葉籽宏",
      "userId": "10846705346373876174"
     },
     "user_tz": 0
    },
    "id": "QWp95BuA5rzm"
   },
   "outputs": [],
   "source": [
    "import pandas as pd\n",
    "\n",
    "# only select the product names\n",
    "open_products_df = pd.read_csv(csvfile, sep=\"\\t\", dtype=str).dropna(subset=['product_name_en'])['product_name_en']\n",
    "open_products_list = open_products_df.astype(str).values.tolist()\n",
    "\n",
    "open_products_list = open_products_list[from_num:to_num]"
   ]
  },
  {
   "cell_type": "code",
   "execution_count": 3,
   "metadata": {
    "colab": {
     "base_uri": "https://localhost:8080/"
    },
    "executionInfo": {
     "elapsed": 14658,
     "status": "ok",
     "timestamp": 1672146151081,
     "user": {
      "displayName": "葉籽宏",
      "userId": "10846705346373876174"
     },
     "user_tz": 0
    },
    "id": "MLc58dU2fblj",
    "outputId": "e1ae4cae-ac42-4cb0-bdc6-e16c686c5e5b"
   },
   "outputs": [
    {
     "name": "stdout",
     "output_type": "stream",
     "text": [
      "Start searching item: \"Choco Hoops\" at Aldi\n",
      "looking into https://groceries.aldi.ie/en-GB/p-choco-hoops-375g-harvest-morn/4088600140261\n",
      "response: 200\n",
      "Start searching item: \"Rotkohl\" at Aldi\n"
     ]
    }
   ],
   "source": [
    "from item.Item import *\n",
    "from crawler.AldiCrawler import AldiCrawler\n",
    "\n",
    "crawler = AldiCrawler()\n",
    "completed_info_products = []\n",
    "for each in open_products_list:\n",
    "    search_item = Search_Item(each)\n",
    "    search_item = crawler.search_and_append(search_item, num=search_items_per_requests)\n",
    "    completed_info_products.append(search_item.aldi_items)"
   ]
  },
  {
   "cell_type": "markdown",
   "metadata": {
    "id": "xNP_fnU0nsaF"
   },
   "source": [
    "# Prepare the data\n",
    "1. Flatten the nested products list\n",
    "2. create the dataframe from the item object\n",
    "    1. retrieve the object variables\n",
    "    2. create a dataframe\n",
    "    3. add the dataframe to the frames list\n",
    "    4. concatenate to create the entire dataframe\n",
    "3. Save to database with name `{retainer}_{from_source_item_num}_{to_source_item_num}`"
   ]
  },
  {
   "cell_type": "code",
   "execution_count": 4,
   "metadata": {
    "colab": {
     "base_uri": "https://localhost:8080/"
    },
    "executionInfo": {
     "elapsed": 95,
     "status": "ok",
     "timestamp": 1672146151088,
     "user": {
      "displayName": "葉籽宏",
      "userId": "10846705346373876174"
     },
     "user_tz": 0
    },
    "id": "S9SZs5rLnrjS",
    "outputId": "77f3b6c5-5719-47f9-e6f9-14b4e4f52840"
   },
   "outputs": [
    {
     "name": "stdout",
     "output_type": "stream",
     "text": [
      "Totally crawls 1 products\n"
     ]
    }
   ],
   "source": [
    "completed_info_products = [i for sublist in completed_info_products for i in sublist]\n",
    "print(f\"Totally crawls {len(completed_info_products)} products\")"
   ]
  },
  {
   "cell_type": "markdown",
   "metadata": {
    "id": "IlAUr8SThLiB"
   },
   "source": [
    "# Save the result to db"
   ]
  },
  {
   "cell_type": "code",
   "execution_count": 5,
   "metadata": {
    "executionInfo": {
     "elapsed": 294,
     "status": "ok",
     "timestamp": 1672146210842,
     "user": {
      "displayName": "葉籽宏",
      "userId": "10846705346373876174"
     },
     "user_tz": 0
    },
    "id": "ab2INdqxhQ5b"
   },
   "outputs": [
    {
     "data": {
      "text/plain": [
       "'Save to Aldi_0_2.db'"
      ]
     },
     "execution_count": 5,
     "metadata": {},
     "output_type": "execute_result"
    }
   ],
   "source": [
    "import sqlite3\n",
    "\n",
    "frames = []\n",
    "for e in completed_info_products:\n",
    "    product_info_dict = vars(e)\n",
    "    product_df = pd.DataFrame(product_info_dict, index=[0])\n",
    "    frames.append(product_df)\n",
    "\n",
    "result = pd.concat(frames)\n",
    "\n",
    "database_name = f\"{retailer}_{from_num}_{to_num}.db\"\n",
    "conn = sqlite3.connect(database_name)\n",
    "result.to_sql(\"products\", conn, if_exists=\"replace\", index=False)\n",
    "f\"Save to {database_name}\""
   ]
  },
  {
   "cell_type": "code",
   "execution_count": 5,
   "metadata": {
    "executionInfo": {
     "elapsed": 100,
     "status": "ok",
     "timestamp": 1672146151110,
     "user": {
      "displayName": "葉籽宏",
      "userId": "10846705346373876174"
     },
     "user_tz": 0
    },
    "id": "VOxXMatHoVfO"
   },
   "outputs": [],
   "source": []
  }
 ],
 "metadata": {
  "colab": {
   "authorship_tag": "ABX9TyOUIOsHmbN0PmcX+aUoWjWX",
   "provenance": []
  },
  "kernelspec": {
   "display_name": "Python 3 (ipykernel)",
   "language": "python",
   "name": "python3"
  },
  "language_info": {
   "codemirror_mode": {
    "name": "ipython",
    "version": 3
   },
   "file_extension": ".py",
   "mimetype": "text/x-python",
   "name": "python",
   "nbconvert_exporter": "python",
   "pygments_lexer": "ipython3",
   "version": "3.10.8"
  }
 },
 "nbformat": 4,
 "nbformat_minor": 4
}
