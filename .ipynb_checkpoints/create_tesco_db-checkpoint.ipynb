{
 "cells": [
  {
   "cell_type": "markdown",
   "metadata": {
    "id": "h76IM8wd6rG4"
   },
   "source": [
    "# Create database\n",
    "\n",
    "1. Upload the compressed file\n",
    "1. Unzip the file\n",
    "1. Assign how many items to search from openfood\n",
    "1. Assign how many products to look into from the search results page"
   ]
  },
  {
   "cell_type": "code",
   "execution_count": 1,
   "metadata": {
    "colab": {
     "base_uri": "https://localhost:8080/",
     "height": 1000
    },
    "id": "KEhbKWjL6qEA",
    "outputId": "411ac8f0-ec64-4c62-f99c-0be629c0892e"
   },
   "outputs": [],
   "source": [
    "from google.colab import files\n",
    "files.upload()"
   ]
  },
  {
   "cell_type": "code",
   "execution_count": 2,
   "metadata": {
    "colab": {
     "base_uri": "https://localhost:8080/"
    },
    "id": "V2Di20Ddewjz",
    "outputId": "0be34ede-b8d6-43ad-d3d5-40f722a936a8"
   },
   "outputs": [],
   "source": [
    "!unzip retailer_analysis"
   ]
  },
  {
   "cell_type": "code",
   "execution_count": 1,
   "metadata": {
    "id": "7oI7SdICc8jB"
   },
   "outputs": [],
   "source": [
    "retailer = \"Tesco\"\n",
    "csvfile = \"openfood_tesco.csv\"\n",
    "\n",
    "# 0~5251, cuz that's the rows number in openfood tesco\n",
    "from_num = 0\n",
    "to_num = 2\n",
    "search_items_per_requests=1"
   ]
  },
  {
   "cell_type": "code",
   "execution_count": 3,
   "metadata": {
    "id": "QWp95BuA5rzm"
   },
   "outputs": [
    {
     "data": {
      "text/plain": [
       "5251"
      ]
     },
     "execution_count": 3,
     "metadata": {},
     "output_type": "execute_result"
    }
   ],
   "source": [
    "import pandas as pd\n",
    "\n",
    "# only select the product names\n",
    "open_products_df = pd.read_csv(csvfile, sep=\"\\t\", dtype=str).dropna(subset=['product_name_en'])['product_name_en']\n",
    "open_products_list = open_products_df.astype(str).values.tolist()\n",
    "\n",
    "open_products_list = open_products_list[from_num:to_num]"
   ]
  },
  {
   "cell_type": "code",
   "execution_count": 5,
   "metadata": {
    "colab": {
     "base_uri": "https://localhost:8080/"
    },
    "id": "MLc58dU2fblj",
    "outputId": "554b17b5-f75f-49cd-c673-0b9dcbe7b777"
   },
   "outputs": [
    {
     "name": "stdout",
     "output_type": "stream",
     "text": [
      "Start searching item: \"butterpack spreadable\" at Tesco\n",
      "looking into https://www.tesco.ie/groceries/en-IE/products/277162268\n",
      "response: 200\n",
      "Start searching item: \"Orange\" at Tesco\n",
      "looking into https://www.tesco.ie/groceries/en-IE/products/253554014\n",
      "response: 200\n"
     ]
    }
   ],
   "source": [
    "from item.Item import *\n",
    "from crawler.TescoCrawler import TescoCrawler\n",
    "\n",
    "crawler = TescoCrawler()\n",
    "completed_info_products = []\n",
    "for each in open_products_list:\n",
    "    search_item = Search_Item(each)\n",
    "    search_item = crawler.search_and_append(search_item, num=search_items_per_requests)\n",
    "    completed_info_products.append(search_item.tesco_items)"
   ]
  },
  {
   "cell_type": "markdown",
   "metadata": {
    "id": "xNP_fnU0nsaF"
   },
   "source": [
    "# Prepare the data\n",
    "1. Flatten the nested products list\n",
    "2. create the dataframe from the item object\n",
    "    1. retrieve the object variables\n",
    "    2. create a dataframe\n",
    "    3. add the dataframe to the frames list\n",
    "    4. concatenate to create the entire dataframe\n",
    "3. Save to database with name `{retainer}_{from_source_item_num}_{to_source_item_num}`"
   ]
  },
  {
   "cell_type": "code",
   "execution_count": 6,
   "metadata": {
    "colab": {
     "base_uri": "https://localhost:8080/"
    },
    "id": "S9SZs5rLnrjS",
    "outputId": "0109a0e6-d369-4edb-888f-bc7d030262ba"
   },
   "outputs": [
    {
     "name": "stdout",
     "output_type": "stream",
     "text": [
      "Totally crawls 2 products\n"
     ]
    }
   ],
   "source": [
    "completed_info_products = [i for sublist in completed_info_products for i in sublist]\n",
    "print(f\"Totally crawls {len(completed_info_products)} products\")"
   ]
  },
  {
   "cell_type": "markdown",
   "metadata": {
    "id": "IlAUr8SThLiB"
   },
   "source": [
    "# Save the result to db"
   ]
  },
  {
   "cell_type": "code",
   "execution_count": 8,
   "metadata": {
    "id": "ab2INdqxhQ5b"
   },
   "outputs": [
    {
     "data": {
      "text/plain": [
       "'Save to Tesco_0_2.db'"
      ]
     },
     "execution_count": 8,
     "metadata": {},
     "output_type": "execute_result"
    }
   ],
   "source": [
    "import sqlite3\n",
    "\n",
    "frames = []\n",
    "for e in completed_info_products:\n",
    "    product_info_dict = vars(e)\n",
    "    product_info_dict['nutrition'] = str(product_info_dict['nutrition'])\n",
    "    product_df = pd.DataFrame(product_info_dict, index=[0], dtype=str)\n",
    "    frames.append(product_df)\n",
    "\n",
    "result = pd.concat(frames)\n",
    "\n",
    "database_name = f\"{retailer}_{from_num}_{to_num}.db\"\n",
    "conn = sqlite3.connect(database_name)\n",
    "result.to_sql(\"products\", conn, if_exists=\"replace\", index=False)\n",
    "f\"Save to {database_name}\""
   ]
  },
  {
   "cell_type": "code",
   "execution_count": null,
   "metadata": {},
   "outputs": [],
   "source": []
  }
 ],
 "metadata": {
  "colab": {
   "provenance": []
  },
  "kernelspec": {
   "display_name": "Python 3 (ipykernel)",
   "language": "python",
   "name": "python3"
  },
  "language_info": {
   "codemirror_mode": {
    "name": "ipython",
    "version": 3
   },
   "file_extension": ".py",
   "mimetype": "text/x-python",
   "name": "python",
   "nbconvert_exporter": "python",
   "pygments_lexer": "ipython3",
   "version": "3.10.8"
  }
 },
 "nbformat": 4,
 "nbformat_minor": 4
}
