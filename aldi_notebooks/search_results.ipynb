{
 "cells": [
  {
   "cell_type": "markdown",
   "id": "6b6c910b-37a6-407e-96e3-020a000b1e5d",
   "metadata": {},
   "source": [
    "# Aldi crawler\n",
    "\n",
    "The aldi server seems to require the client to make a handshake with the server. Without any headers, the response status code is 403 Forbiddent. \n",
    "After first request, update the request with the headers, second request will succedd. Use session will make life easier in this case."
   ]
  },
  {
   "cell_type": "code",
   "execution_count": 1,
   "id": "64790c62-e91c-4eb9-818b-a4b89c6d27c4",
   "metadata": {},
   "outputs": [],
   "source": [
    "import bs4, requests, json\n",
    "\n",
    "user_agent = 'Mozilla/5.0 (Windows NT 10.0; Win64; x64) AppleWebKit/537.36 (KHTML, like Gecko) Chrome/108.0.0.0 Safari/537.36'\n",
    "sess = requests.Session()\n",
    "sess.headers.update({'User-Agent': user_agent})\n",
    "sess.get('https://groceries.aldi.ie/en-GB/Search?keywords=peanut%20butter')\n",
    "\n",
    "response = sess.get('https://groceries.aldi.ie/en-GB/Search?keywords=peanut%20butter')"
   ]
  },
  {
   "cell_type": "markdown",
   "id": "e2d20277-7c7b-4621-a89b-b7ffea9d70e5",
   "metadata": {},
   "source": [
    "## parse the soup\n",
    "\n",
    "`soup.select(css selector)` helps to specify the target. Use `id` attribute is preferred though.\n",
    "\n",
    "after select, it returns a `ResultSet` collection.\n",
    "Iterate through the items, each node is a `Tag` object. Get the value by passing `item['target_attribute']` will have the attribute value.\n",
    "\n",
    "Use `json.loads()` will load the json to dictionary"
   ]
  },
  {
   "cell_type": "code",
   "execution_count": 2,
   "id": "c69ee12b-4696-4b99-8433-9f602b2dd7af",
   "metadata": {},
   "outputs": [],
   "source": [
    "soup = bs4.BeautifulSoup(response.content, 'html.parser')\n",
    "items = soup.select('div[data-oc-controller=\"Product.SearchSummary\"]')\n",
    "if items:\n",
    "    item = items[0]  # first item\n",
    "    raw_json = item['data-context']\n",
    "    data = json.loads(raw_json)\n",
    "    \n",
    "    # iterate through the data nodes, create the object item"
   ]
  },
  {
   "cell_type": "code",
   "execution_count": 3,
   "id": "8db7ce9d-ed91-4a5c-a7ab-ad8a2eaed123",
   "metadata": {},
   "outputs": [],
   "source": [
    "attribute_dict = json.loads(items[0]['data-context'])\n",
    "products_list = attribute_dict['SearchResults']"
   ]
  },
  {
   "cell_type": "code",
   "execution_count": 11,
   "id": "e7ff30ce-c748-432d-a527-6d374595e0c7",
   "metadata": {},
   "outputs": [
    {
     "name": "stdout",
     "output_type": "stream",
     "text": [
      "Smooth Peanut Butter 340g Grandessa\n",
      "1.19\n",
      "£1.19\n"
     ]
    },
    {
     "data": {
      "text/plain": [
       "{'FullDisplayName': 'Smooth Peanut Butter 340g Grandessa',\n",
       " 'DefinitionName': 'Food',\n",
       " 'SearchTerm': None,\n",
       " 'HasPriceRange': False,\n",
       " 'PriceListId': 'StoreLevelPricesExcVAT',\n",
       " 'ListPrice': 1.19,\n",
       " 'Price': None,\n",
       " 'ItemFormat': 1.0,\n",
       " 'IsSeasonalProductAvailableForCollect': False,\n",
       " 'QtyMaxReachMessage': None,\n",
       " 'RemoveOnlyEditedProductMessage': None,\n",
       " 'ProductId': '4088600294261',\n",
       " 'VariantId': None,\n",
       " 'HasVariants': False,\n",
       " 'Sku': '4088600294261',\n",
       " 'DisplayName': 'Smooth Peanut Butter 340g Grandessa',\n",
       " 'Brand': None,\n",
       " 'BrandId': None,\n",
       " 'Description': None,\n",
       " 'Url': '/en-GB/p-smooth-peanut-butter-340g-grandessa/4088600294261',\n",
       " 'ImageUrl': 'https://aldprdproductimages.azureedge.net/media/$Aldi_IE/11.05.22 Drinks and Jams/4088600294261_0.jpg',\n",
       " 'FallbackImageUrl': 'https://aldprdproductimages.azureedge.net/media/image_not_found.jpg',\n",
       " 'IsAvailableToSell': True,\n",
       " 'CategoryId': 'C5304',\n",
       " 'IsRecurringOrderEligible': False,\n",
       " 'RecurringOrderProgramName': None,\n",
       " 'DisplayPrice': '£1.19',\n",
       " 'DisplaySpecialPrice': None,\n",
       " 'IsOnSale': False,\n",
       " 'SellingMethod': 'Unit',\n",
       " 'UnitOfMeasure': 'unit',\n",
       " 'IsUnit': True,\n",
       " 'IsUnitMeasure': True,\n",
       " 'IsApproxUnit': False,\n",
       " 'JsonContext': '{\"IsRecurringOrderEligible\":false}',\n",
       " 'DefaultListPrice': None,\n",
       " 'CurrentListPrice': None,\n",
       " 'SizeVolume': '340g',\n",
       " 'UnitPriceDeclaration': 'per kg',\n",
       " 'UnitPrice': None,\n",
       " 'HasUnitPrice': None,\n",
       " 'ImageRibbonText': None,\n",
       " 'ImageBannerText': None,\n",
       " 'ImageBadges': None,\n",
       " 'ImageBadges_Facet': None,\n",
       " 'AssortmentState': None,\n",
       " 'ImageRibbonColour': None,\n",
       " 'ImageBannerColour': None}"
      ]
     },
     "execution_count": 11,
     "metadata": {},
     "output_type": "execute_result"
    }
   ],
   "source": [
    "print(products_list[0]['FullDisplayName'])\n",
    "print(products_list[0]['ListPrice'])\n",
    "print(products_list[0]['DisplayPrice'])"
   ]
  },
  {
   "cell_type": "markdown",
   "id": "98438970-6137-47f1-8025-421f229ec5e4",
   "metadata": {},
   "source": [
    "The result page, might have multiple pages. Aldi only displays 40 products by default."
   ]
  },
  {
   "cell_type": "code",
   "execution_count": 5,
   "id": "28261b6a-ff1e-4be4-9770-7a5ec4062aec",
   "metadata": {},
   "outputs": [
    {
     "name": "stdout",
     "output_type": "stream",
     "text": [
      "The search page found 40 products (at least)\n"
     ]
    }
   ],
   "source": [
    "print(f\"The search page found {len(products_list)} products (at least)\")"
   ]
  },
  {
   "cell_type": "markdown",
   "id": "5a2f8d5d-cea3-49f4-b87b-333094d7e876",
   "metadata": {},
   "source": [
    "## product information\n",
    "\n",
    "We get the product information in the form of dictionary. We can create a dataframe from it. "
   ]
  },
  {
   "cell_type": "code",
   "execution_count": 6,
   "id": "41ea48be-4c1c-4be4-ad61-682f477282cc",
   "metadata": {},
   "outputs": [
    {
     "data": {
      "text/plain": [
       "Index(['FullDisplayName', 'DefinitionName', 'SearchTerm', 'HasPriceRange',\n",
       "       'PriceListId', 'ListPrice', 'Price', 'ItemFormat',\n",
       "       'IsSeasonalProductAvailableForCollect', 'QtyMaxReachMessage',\n",
       "       'RemoveOnlyEditedProductMessage', 'ProductId', 'VariantId',\n",
       "       'HasVariants', 'Sku', 'DisplayName', 'Brand', 'BrandId', 'Description',\n",
       "       'Url', 'ImageUrl', 'FallbackImageUrl', 'IsAvailableToSell',\n",
       "       'CategoryId', 'IsRecurringOrderEligible', 'RecurringOrderProgramName',\n",
       "       'DisplayPrice', 'DisplaySpecialPrice', 'IsOnSale', 'SellingMethod',\n",
       "       'UnitOfMeasure', 'IsUnit', 'IsUnitMeasure', 'IsApproxUnit',\n",
       "       'JsonContext', 'DefaultListPrice', 'CurrentListPrice', 'SizeVolume',\n",
       "       'UnitPriceDeclaration', 'UnitPrice', 'HasUnitPrice', 'ImageRibbonText',\n",
       "       'ImageBannerText', 'ImageBadges', 'ImageBadges_Facet',\n",
       "       'AssortmentState', 'ImageRibbonColour', 'ImageBannerColour'],\n",
       "      dtype='object')"
      ]
     },
     "execution_count": 6,
     "metadata": {},
     "output_type": "execute_result"
    }
   ],
   "source": [
    "import pandas as pd\n",
    "item_df = pd.DataFrame(products_list[0], index=[0])\n",
    "item_df.columns"
   ]
  },
  {
   "cell_type": "markdown",
   "id": "7326ac8e-7bee-4d9a-b76b-2bb64c213d15",
   "metadata": {},
   "source": [
    "# Get the product page url\n",
    "\n",
    "This product page url will link to the detailed product page, it contains all nutrition facts, item categories, etc."
   ]
  },
  {
   "cell_type": "code",
   "execution_count": 7,
   "id": "10763d52-352c-4594-b061-18db55f6d252",
   "metadata": {},
   "outputs": [
    {
     "data": {
      "text/plain": [
       "'/en-GB/p-smooth-peanut-butter-340g-grandessa/4088600294261'"
      ]
     },
     "execution_count": 7,
     "metadata": {},
     "output_type": "execute_result"
    }
   ],
   "source": [
    "products_list[0]['Url']"
   ]
  },
  {
   "cell_type": "code",
   "execution_count": null,
   "id": "f65ea9b9-f70e-4e76-876f-eb745506cfd2",
   "metadata": {},
   "outputs": [],
   "source": []
  }
 ],
 "metadata": {
  "kernelspec": {
   "display_name": "Python 3 (ipykernel)",
   "language": "python",
   "name": "python3"
  },
  "language_info": {
   "codemirror_mode": {
    "name": "ipython",
    "version": 3
   },
   "file_extension": ".py",
   "mimetype": "text/x-python",
   "name": "python",
   "nbconvert_exporter": "python",
   "pygments_lexer": "ipython3",
   "version": "3.10.8"
  }
 },
 "nbformat": 4,
 "nbformat_minor": 5
}
