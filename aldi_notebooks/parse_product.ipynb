{
 "cells": [
  {
   "attachments": {},
   "cell_type": "markdown",
   "id": "a03f4fee",
   "metadata": {},
   "source": [
    "This demonstrate how to parse Aldi product page"
   ]
  },
  {
   "cell_type": "code",
   "execution_count": 1,
   "id": "11cbcf3e-603a-4d0b-9ea7-3955d9b11a5b",
   "metadata": {},
   "outputs": [
    {
     "data": {
      "text/plain": "200"
     },
     "execution_count": 1,
     "metadata": {},
     "output_type": "execute_result"
    }
   ],
   "source": [
    "import sys\n",
    "sys.path.append('../')\n",
    "\n",
    "import requests, json, bs4, json\n",
    "from crawler.Crawler import Crawler\n",
    "\n",
    "crawler = Crawler(\"Default\")\n",
    "search_url=\"https://groceries.aldi.ie/en-GB/p-smooth-peanut-butter-340g-grandessa/4088600294261\"\n",
    "res, session = crawler._request_product_search(search_url)\n",
    "res.status_code"
   ]
  },
  {
   "attachments": {},
   "cell_type": "markdown",
   "id": "d17512ee",
   "metadata": {},
   "source": [
    "## parse product information"
   ]
  },
  {
   "cell_type": "code",
   "execution_count": 2,
   "id": "c26d8d95-8476-4880-816e-94c33dc2795c",
   "metadata": {},
   "outputs": [
    {
     "name": "stdout",
     "output_type": "stream",
     "text": [
      "{'selectedKvas': {}, 'productId': '4088600294261', 'CategoryId': 'C5304', 'Sku': '4088600294261', 'keyVariantAttributeItems': [], 'CreateAccountUrl': '/en-GB/ALDIIE/create-account?ReturnUrl=%252fen-GB%252fALDIIE%252fp-smooth-peanut-butter-340g-grandessa%252f4088600294261', 'Weight': 1.0, 'WeightUOM': 'Kilogramme', 'ItemFormat': 1.0, 'SellingMethod': 'Unit', 'UnitOfMeasure': 'Unit', 'IsUnit': True, 'IsUnitMeasure': True, 'IsApproxUnit': False, 'Quantity': {'Min': 0, 'Max': 99, 'JsonContext': '{}'}, 'Brand': 'Grandessa', 'DisplayName': 'Smooth Peanut Butter 340g Grandessa', 'GeneralDisclaimer': 'We’ve provided the details above for information purposes only, to enhance your experience of the Aldi website. We’ve tried our best to make sure everything is accurate, but you should always read the label before consuming or using the product. It’s also worth remembering that our products and their ingredients are liable to change at any time. If you need any specific information about any of our Aldi-branded products, please get in touch with our friendly Customer Services team.', 'HasGeneralDisclaimer': True, 'IsProofOfAgeRequired': False, 'SizeVolume': '340g', 'MaxPurchaseQuantity': 15.0, 'UnitPriceDeclaration': 'per kg', 'ImageRibbonText': None, 'ImageBannerText': None, 'ImageBadges': None, 'ImageBadges_Facet': None, 'BrandName': 'Grandessa', 'PrimaryCategoryId': 'IEL1E', 'PrimaryCategoryName': 'Food Cupboard', 'SecondaryCategoryId': 'IEL2EJ', 'SecondaryCategoryName': 'Jams, Spreads & Syrups', 'TertiaryCategoryId': 'C5304', 'TertiaryCategoryName': 'Nut Butters', 'AssortmentState': None, 'ImageRibbonColour': None, 'ImageBannerColour': None}\n"
     ]
    }
   ],
   "source": [
    "soup = bs4.BeautifulSoup(res.content, 'html.parser')\n",
    "item = soup.find(id='product-summary')\n",
    "raw_json = item['data-context']\n",
    "spec_dict = json.loads(raw_json)\n",
    "print(spec_dict)"
   ]
  },
  {
   "attachments": {},
   "cell_type": "markdown",
   "id": "e4363e6e-a814-4154-9f3f-2d543588f1f4",
   "metadata": {},
   "source": [
    "missing info:\n",
    "- selling price (get it from the search result page)\n",
    "- price per kg (since we get the price and size volume, we can calculate it when create the item)\n",
    "\n",
    "Solution:\n",
    "Retrieve the price from the search result page"
   ]
  },
  {
   "attachments": {},
   "cell_type": "markdown",
   "id": "992575ce",
   "metadata": {},
   "source": [
    "# Get nutrition facts"
   ]
  },
  {
   "cell_type": "code",
   "execution_count": 3,
   "id": "574578d4",
   "metadata": {},
   "outputs": [
    {
     "data": {
      "text/plain": "'Per 100g: Energy 2536kJ, 612kcal Fat 50g of which saturates 9.9g Carbohydrate 12g of which sugars 6.6g Fibre 8.3g Protein 25g Salt 1.2g'"
     },
     "execution_count": 3,
     "metadata": {},
     "output_type": "execute_result"
    }
   ],
   "source": [
    "talbes = soup.findAll('table', class_=\"table table-striped\")\n",
    "td = talbes[0].findAll('td')\n",
    "td[1].text"
   ]
  },
  {
   "cell_type": "code",
   "execution_count": 3,
   "id": "c0ad4b65",
   "metadata": {},
   "outputs": [],
   "source": []
  }
 ],
 "metadata": {
  "kernelspec": {
   "display_name": "Python 3 (ipykernel)",
   "language": "python",
   "name": "python3"
  },
  "language_info": {
   "codemirror_mode": {
    "name": "ipython",
    "version": 3
   },
   "file_extension": ".py",
   "mimetype": "text/x-python",
   "name": "python",
   "nbconvert_exporter": "python",
   "pygments_lexer": "ipython3",
   "version": "3.10.8 (main, Nov  1 2022, 14:18:21) [GCC 12.2.0]"
  },
  "vscode": {
   "interpreter": {
    "hash": "e7370f93d1d0cde622a1f8e1c04877d8463912d04d973331ad4851f04de6915a"
   }
  }
 },
 "nbformat": 4,
 "nbformat_minor": 5
}
