{
 "cells": [
  {
   "cell_type": "markdown",
   "source": [
    "In contrast to parsing aldi search results, all the information we need can be fetched in tesco product page."
   ],
   "metadata": {
    "collapsed": false
   }
  },
  {
   "cell_type": "code",
   "execution_count": 1,
   "id": "a901ce91-a3d2-4b32-83c0-559a5939dfac",
   "metadata": {},
   "outputs": [
    {
     "data": {
      "text/plain": "200"
     },
     "execution_count": 1,
     "metadata": {},
     "output_type": "execute_result"
    }
   ],
   "source": [
    "import sys\n",
    "sys.path.append('../')\n",
    "\n",
    "from crawler.Crawler import Crawler\n",
    "import requests, json, bs4, json\n",
    "\n",
    "crawler = Crawler(\"Default\")\n",
    "search_url=\"https://www.tesco.ie/groceries/en-IE/search?query=fish%20oil\"\n",
    "(response, session) = crawler._request_product_search(search_url)\n",
    "response.status_code"
   ]
  },
  {
   "cell_type": "code",
   "execution_count": 2,
   "id": "41607d3d",
   "metadata": {},
   "outputs": [],
   "source": [
    "soup = bs4.BeautifulSoup(response.content, 'html.parser')\n",
    "item = soup.find(id='data-attributes')\n",
    "raw_json = item['data-redux-state']"
   ]
  },
  {
   "cell_type": "code",
   "execution_count": 3,
   "id": "d129132d",
   "metadata": {},
   "outputs": [
    {
     "data": {
      "text/plain": "'309756992'"
     },
     "execution_count": 3,
     "metadata": {},
     "output_type": "execute_result"
    }
   ],
   "source": [
    "spec = json.loads(raw_json)\n",
    "spec['results']['pages'][0]['serializedData'][0][0]"
   ]
  },
  {
   "cell_type": "code",
   "execution_count": 3,
   "id": "1bd7f4af",
   "metadata": {},
   "outputs": [],
   "source": []
  }
 ],
 "metadata": {
  "kernelspec": {
   "display_name": "Python 3",
   "language": "python",
   "name": "python3"
  },
  "language_info": {
   "codemirror_mode": {
    "name": "ipython",
    "version": 3
   },
   "file_extension": ".py",
   "mimetype": "text/x-python",
   "name": "python",
   "nbconvert_exporter": "python",
   "pygments_lexer": "ipython3",
   "version": "3.10.8 (main, Nov  1 2022, 14:18:21) [GCC 12.2.0]"
  },
  "vscode": {
   "interpreter": {
    "hash": "e7370f93d1d0cde622a1f8e1c04877d8463912d04d973331ad4851f04de6915a"
   }
  }
 },
 "nbformat": 4,
 "nbformat_minor": 5
}
